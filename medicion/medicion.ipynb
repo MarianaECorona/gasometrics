{
 "cells": [
  {
   "attachments": {},
   "cell_type": "markdown",
   "metadata": {},
   "source": [
    "# Reconocimiento del nivel de Gas en medidor de tanque estacionario"
   ]
  },
  {
   "attachments": {},
   "cell_type": "markdown",
   "metadata": {},
   "source": [
    "## Importar Librerías"
   ]
  },
  {
   "cell_type": "code",
   "execution_count": 24,
   "metadata": {},
   "outputs": [],
   "source": [
    "import sys\n",
    "import cv2 as cv\n",
    "import numpy as np\n",
    "#from PIL import Image"
   ]
  },
  {
   "attachments": {},
   "cell_type": "markdown",
   "metadata": {},
   "source": [
    "## Carga de Imagen"
   ]
  },
  {
   "attachments": {},
   "cell_type": "markdown",
   "metadata": {},
   "source": [
    "\n",
    "Cargar la imagen y validar su carga <br>\n",
    "<font color=yellow>**Nota:**</font> \"src\" será la refenrencia con la que se llamará a la imagen durante todo el proceso<br>\n",
    "Para más imformación del BGR\n",
    "<a>https://datahacker.rs/how-to-access-and-edit-pixel-values-in-opencv-with-python/</a>\n"
   ]
  },
  {
   "cell_type": "code",
   "execution_count": 25,
   "metadata": {},
   "outputs": [],
   "source": [
    "#archivo a utilizar \n",
    "filename = \"med_1.png\"\n",
    "\n",
    "#cv.IMREAD_COLOR comvierte la imagen se convierte en BGR\n",
    "src = cv.imread(cv.samples.findFile(filename), cv.IMREAD_COLOR)\n",
    "\n",
    "if src is None:\n",
    "    print ('Error opening image!')\n"
   ]
  },
  {
   "attachments": {},
   "cell_type": "markdown",
   "metadata": {},
   "source": [
    "***"
   ]
  },
  {
   "attachments": {},
   "cell_type": "markdown",
   "metadata": {},
   "source": [
    "## Detección del circulo y el centro en la imagen"
   ]
  },
  {
   "attachments": {},
   "cell_type": "markdown",
   "metadata": {},
   "source": [
    "### Convertir la imagen en gris y quitar posible ruido en ella<br>\n",
    "Se agrega un canal alpha para hacer las conversiones a grises"
   ]
  },
  {
   "cell_type": "code",
   "execution_count": 26,
   "metadata": {},
   "outputs": [],
   "source": [
    "# Convertir en gris la imagen\n",
    "gray = cv.cvtColor(src, cv.COLOR_BGR2GRAY)\n",
    "\n",
    "#Aplicar un filtro Gaussiano para reducir el ruido en la detección\n",
    "gray = cv.medianBlur(gray, 5)"
   ]
  },
  {
   "attachments": {},
   "cell_type": "markdown",
   "metadata": {},
   "source": [
    "Para ver la imagen en gris"
   ]
  },
  {
   "cell_type": "code",
   "execution_count": 27,
   "metadata": {},
   "outputs": [
    {
     "data": {
      "text/plain": [
       "-1"
      ]
     },
     "execution_count": 27,
     "metadata": {},
     "output_type": "execute_result"
    }
   ],
   "source": [
    "cv.imshow(\"detected circles and dial\", gray)\n",
    "cv.waitKey(0)"
   ]
  },
  {
   "attachments": {},
   "cell_type": "markdown",
   "metadata": {},
   "source": [
    "## Deliminar los parametros con los que se buscara el circulo en la imagen"
   ]
  },
  {
   "attachments": {},
   "cell_type": "markdown",
   "metadata": {},
   "source": [
    "**gay.shape:** imagen en escala de grises<br>\n",
    "**circles:** vector que almacena tres conjuntos de valores para cada circulo detectado, x_centro, y_centro, radio<br>\n",
    "**HOUGH_GRADIENT:x**Define el método de detección<br>\n",
    "**min_dist = gray.rows/16 :** Distancia mínima entre centros detectados.<br>\n",
    "**param_1 = 200 :** Umbral superior para el detector de borde Canny interno.<br>\n",
    "**param_2 = 100:** Umbral para la detección del centro.<br>\n",
    "**min_radius = 0 :** Radio mínimo a detectar. <br>\n",
    "**max_radius = 0 :** Radio máximo a detectar. <br>"
   ]
  },
  {
   "cell_type": "code",
   "execution_count": 28,
   "metadata": {},
   "outputs": [
    {
     "name": "stdout",
     "output_type": "stream",
     "text": [
      "[[[219.5 363.5 160.8]]]\n"
     ]
    }
   ],
   "source": [
    "rows = gray.shape[0]\n",
    "circles = cv.HoughCircles(gray, cv.HOUGH_GRADIENT, 1, rows / 8,\n",
    "param1=120, param2=75,\n",
    "minRadius=100, maxRadius=00)\n",
    "print(circles)"
   ]
  },
  {
   "cell_type": "code",
   "execution_count": 29,
   "metadata": {},
   "outputs": [
    {
     "data": {
      "text/plain": [
       "-1"
      ]
     },
     "execution_count": 29,
     "metadata": {},
     "output_type": "execute_result"
    }
   ],
   "source": [
    "edges = cv.Canny(gray,100,200)\n",
    "cv.imshow(\"detected circles and dial\", edges)\n",
    "cv.waitKey(0)"
   ]
  },
  {
   "attachments": {},
   "cell_type": "markdown",
   "metadata": {},
   "source": [
    "## Dibujar los circulos detectados"
   ]
  },
  {
   "cell_type": "code",
   "execution_count": 30,
   "metadata": {},
   "outputs": [
    {
     "name": "stdout",
     "output_type": "stream",
     "text": [
      "(220, 364)\n",
      "220\n",
      "161\n"
     ]
    }
   ],
   "source": [
    "if circles is not None:\n",
    "    circles = np.uint16(np.around(circles))\n",
    "for i in circles[0, :]:\n",
    "    center = (i[0], i[1])\n",
    "    #center = (200,247)\n",
    " # circle center\n",
    "    cv.circle(src, center, 1, (0, 0, 255), 5)\n",
    "    print(center)\n",
    " # circle outline\n",
    "    #radius = 90 \n",
    "    radius = i[2]\n",
    "cv.circle(src, center, radius, (255, 0, 255), 3)\n",
    "#cv.circle(src, center, int(radius/2), (200, 0, 255), 3)\n",
    "print(center[0])\n",
    "print(radius)"
   ]
  },
  {
   "cell_type": "code",
   "execution_count": 31,
   "metadata": {},
   "outputs": [
    {
     "data": {
      "text/plain": [
       "-1"
      ]
     },
     "execution_count": 31,
     "metadata": {},
     "output_type": "execute_result"
    }
   ],
   "source": [
    "cv.imshow(\"detected circles and dial\", src)\n",
    "cv.waitKey(0)"
   ]
  },
  {
   "attachments": {},
   "cell_type": "markdown",
   "metadata": {},
   "source": [
    "## Detección de la aguja del medidor"
   ]
  },
  {
   "cell_type": "code",
   "execution_count": 32,
   "metadata": {},
   "outputs": [],
   "source": [
    "gray2 = cv.cvtColor(src, cv.COLOR_BGR2GRAY)\n",
    "maxValue = 255\n",
    "threshold_img = 175\n",
    "# redelimitar la imagen para poder identificar mejos las lineas\n",
    "th, dst2 = cv.threshold(gray2, threshold_img, maxValue,cv.ADAPTIVE_THRESH_GAUSSIAN_C, cv.THRESH_BINARY_INV);\n",
    "\n",
    "#detectar los puntos que forman la linea\n",
    "lines = cv.HoughLinesP(image=dst2, rho= 3, theta=np.pi/180, threshold=100, minLineLength = 15, maxLineGap = 3)\n",
    "\n",
    "x = center[0]\n",
    "y = center[1]\n",
    "#print(gray2)"
   ]
  },
  {
   "attachments": {},
   "cell_type": "markdown",
   "metadata": {},
   "source": [
    "Visualizar la imagen con el nuevo filtro gris"
   ]
  },
  {
   "cell_type": "code",
   "execution_count": 33,
   "metadata": {},
   "outputs": [
    {
     "data": {
      "text/plain": [
       "-1"
      ]
     },
     "execution_count": 33,
     "metadata": {},
     "output_type": "execute_result"
    }
   ],
   "source": [
    "cv.imshow(\"detected circles and dial\", gray2)\n",
    "cv.waitKey(0)"
   ]
  },
  {
   "attachments": {},
   "cell_type": "markdown",
   "metadata": {},
   "source": [
    "Visualizar la nueva delimitación"
   ]
  },
  {
   "cell_type": "code",
   "execution_count": 34,
   "metadata": {},
   "outputs": [
    {
     "data": {
      "text/plain": [
       "-1"
      ]
     },
     "execution_count": 34,
     "metadata": {},
     "output_type": "execute_result"
    }
   ],
   "source": [
    "cv.imshow(\"detected circles and dial\", dst2)\n",
    "cv.waitKey(0)"
   ]
  },
  {
   "cell_type": "markdown",
   "metadata": {},
   "source": [
    "### Calcular la distacia entre dos puntos"
   ]
  },
  {
   "cell_type": "code",
   "execution_count": 35,
   "metadata": {},
   "outputs": [],
   "source": [
    "def dist_2_pts(x1, y1, x2, y2):\n",
    "    return np.sqrt((x2 - x1)**2 + (y2 - y1)**2)"
   ]
  },
  {
   "cell_type": "code",
   "execution_count": 36,
   "metadata": {},
   "outputs": [],
   "source": [
    "diff1LowerBound = 0.25 #diff1LowerBound and diff1UpperBound determine how close the line should be from the center\n",
    "diff1UpperBound = 1\n",
    "diff2LowerBound = 0.5 #diff2LowerBound and diff2UpperBound determine how close the other point of the line should be to the outside of the gauge\n",
    "diff2UpperBound = 1\n",
    "r = radius"
   ]
  },
  {
   "attachments": {},
   "cell_type": "markdown",
   "metadata": {},
   "source": [
    "### Generar la linea de la aguja"
   ]
  },
  {
   "cell_type": "code",
   "execution_count": 37,
   "metadata": {},
   "outputs": [
    {
     "name": "stdout",
     "output_type": "stream",
     "text": [
      "311.3213773578679 332.54323027239633\n",
      "215 416 230 239\n"
     ]
    }
   ],
   "source": [
    "# remover las linead de un determinado radio\n",
    "final_line_list = []\n",
    "\n",
    "in_loop = 0\n",
    "        \n",
    "for i in range(0, len(lines)):\n",
    "    for x1, y1, x2, y2 in lines[i]:\n",
    "        #print(x1, y1, x2, y2)\n",
    "        diff1 = dist_2_pts(x,y, x1, y1)  # x, y is center of circle\n",
    "        diff2 = dist_2_pts(x,y, x2, y2)  # x, y is center of circle\n",
    "\n",
    "        #hacer que la primer diferencia sea la más pequeña \n",
    "        if (diff1 > diff2):\n",
    "            temp = diff1\n",
    "            diff1 = diff2\n",
    "            diff2 = temp\n",
    "                    \n",
    "            # Check if line is in range of circle\n",
    "        if (((diff1<diff1UpperBound*r) and (diff1>diff1LowerBound*r) and (diff2<diff2UpperBound*r)) and (diff2>diff2LowerBound*r)):\n",
    "            line_length = dist_2_pts(x1, y1, x2, y2)\n",
    "            final_line_list.append([x1, y1, x2, y2])\n",
    "            in_loop = 1  # validar que encontro el rango del circulo para la linea\n",
    "\n",
    "        \n",
    "        if (in_loop == 1):\n",
    "            # for i in range(0,len(final_line_list)):\n",
    "            #     x1 = final_line_list[i][0]\n",
    "            #     y1 = final_line_list[i][1]\n",
    "            #     x2 = final_line_list[i][2]\n",
    "            #     y2 = final_line_list[i][3]\n",
    "            #     cv.line(src, (x1, y1), (x2, y2), (0, 255, 0), 2)\n",
    "            n = 0\n",
    "            # Asigna las coordenadas asumiendo que el primer caso es el mejor\n",
    "            x1 = final_line_list[n][0]\n",
    "            y1 = final_line_list[n][1]\n",
    "            x2 = final_line_list[n][2]\n",
    "            y2 = final_line_list[n][3]\n",
    "            cv.line(src, (x1, y1), (x2, y2), (0, 255, 255), 2)\n",
    "            \n",
    "print(diff1, diff2) \n",
    "print(x1,y1,x2,y2)\n",
    "#188 168 204 298\n",
    "#178 162 182 194\n",
    "#213 85 214 114\n",
    "# 240 282 264 301\n",
    "# 173 244 188 223\n",
    "\n"
   ]
  },
  {
   "cell_type": "code",
   "execution_count": 38,
   "metadata": {},
   "outputs": [],
   "source": [
    "cv.imshow(\"detected circles and dial\", src)\n",
    "cv.waitKey(0)"
   ]
  },
  {
   "attachments": {},
   "cell_type": "markdown",
   "metadata": {},
   "source": [
    "### Encontrar el ángulo de inclinación"
   ]
  },
  {
   "cell_type": "code",
   "execution_count": null,
   "metadata": {},
   "outputs": [],
   "source": [
    "# Buscar el punto más lejano del centro para determinar el ángulo\n",
    "dist_pt_0 = dist_2_pts(x, y, x1, y1)\n",
    "dist_pt_1 = dist_2_pts(x, y, x2, y2)\n",
    "\n",
    "if (dist_pt_0 > dist_pt_1):\n",
    "    x_angle = x1 - x\n",
    "    y_angle = y - y1\n",
    "else:\n",
    "    x_angle = x2 - x\n",
    "    y_angle = y - y2\n",
    "\n",
    "#calcular el ángulo de inclinación con el arc tangente\n",
    "res = np.arctan(np.divide(float(y_angle), float(x_angle)))"
   ]
  },
  {
   "cell_type": "code",
   "execution_count": null,
   "metadata": {},
   "outputs": [],
   "source": [
    "# cv.imshow(\"detected circles and dial\", src)\n",
    "# cv.waitKey(0)"
   ]
  },
  {
   "cell_type": "code",
   "execution_count": null,
   "metadata": {},
   "outputs": [],
   "source": [
    "# #Detectar el inicio\n",
    "# frameHSV = cv.cvtColor(src, cv.COLOR_BGR2HSV)\n",
    "\n",
    "# redBajo1 = np.array([0, 100, 20], np.uint8)\n",
    "# redAlto1 = np.array([8, 255, 255], np.uint8)\n",
    "# redBajo2 = np.array([175, 100, 20], np.uint8)\n",
    "# redAlto2 = np.array([179, 255, 255], np.uint8)\n",
    "\n",
    "# maskRed1 = cv.inRange(frameHSV, redBajo1, redAlto1)\n",
    "# maskRed2 = cv.inRange(frameHSV, redBajo2, redAlto2)\n",
    "# maskRed = cv.add(maskRed1, maskRed2)\n",
    "# maskRedvis = cv.bitwise_and(src, src, mask= maskRed)        \n",
    "# cv.imshow('frame', src)\n",
    "# cv.imshow('maskRed', maskRed)\n",
    "# cv.imshow('maskRedvis', maskRedvis)"
   ]
  },
  {
   "cell_type": "code",
   "execution_count": null,
   "metadata": {},
   "outputs": [],
   "source": [
    "res = np.rad2deg(res)\n",
    "if x_angle > 0 and y_angle > 0:  #in quadrant I\n",
    "    final_angle = 270 - res\n",
    "if x_angle < 0 and y_angle > 0:  #in quadrant II\n",
    "    final_angle = 90 - res\n",
    "if x_angle < 0 and y_angle < 0:  #in quadrant III\n",
    "    final_angle = 90 - res\n",
    "if x_angle > 0 and y_angle < 0:  #in quadrant IV\n",
    "    final_angle = 270 - res"
   ]
  },
  {
   "attachments": {},
   "cell_type": "markdown",
   "metadata": {},
   "source": [
    "### Unidades"
   ]
  },
  {
   "cell_type": "code",
   "execution_count": null,
   "metadata": {},
   "outputs": [],
   "source": [
    "min_angle = 10\n",
    "max_angle = 350\n",
    "min_value = 5\n",
    "max_value = 95\n",
    "units =\"porciento\""
   ]
  },
  {
   "attachments": {},
   "cell_type": "markdown",
   "metadata": {},
   "source": [
    "### Calcular el valor\n"
   ]
  },
  {
   "cell_type": "code",
   "execution_count": null,
   "metadata": {},
   "outputs": [
    {
     "name": "stdout",
     "output_type": "stream",
     "text": [
      "184.57392125990086\n",
      "340.0 90.0 5.0\n"
     ]
    }
   ],
   "source": [
    "old_min = float(min_angle)\n",
    "old_max = float(max_angle)\n",
    "\n",
    "new_min = float(min_value)\n",
    "new_max = float(max_value)\n",
    "\n",
    "old_value = final_angle\n",
    "print(old_value)\n",
    "\n",
    "old_range = (old_max - old_min)\n",
    "new_range = (new_max - new_min)\n",
    "new_value = (((old_value - old_min) * new_range) / old_range) + new_min\n",
    "print(old_range, new_range,new_min )"
   ]
  },
  {
   "attachments": {},
   "cell_type": "markdown",
   "metadata": {},
   "source": [
    "## Mostrar los circulos\n",
    "\n",
    "***Solo demostrativo***\n",
    "\n",
    "\n",
    "\n"
   ]
  },
  {
   "cell_type": "markdown",
   "metadata": {},
   "source": []
  },
  {
   "cell_type": "code",
   "execution_count": null,
   "metadata": {},
   "outputs": [
    {
     "data": {
      "text/plain": [
       "-1"
      ]
     },
     "execution_count": 22,
     "metadata": {},
     "output_type": "execute_result"
    }
   ],
   "source": [
    "cv.imshow(\"detected circles and dial\", src)\n",
    "cv.waitKey(0)\n"
   ]
  },
  {
   "cell_type": "code",
   "execution_count": null,
   "metadata": {},
   "outputs": [
    {
     "name": "stdout",
     "output_type": "stream",
     "text": [
      "Current reading: 51.21 porciento\n"
     ]
    }
   ],
   "source": [
    "print (\"Current reading: %s %s\" %((\"%.2f\" % new_value), units))\n"
   ]
  }
 ],
 "metadata": {
  "kernelspec": {
   "display_name": "Python 3",
   "language": "python",
   "name": "python3"
  },
  "language_info": {
   "codemirror_mode": {
    "name": "ipython",
    "version": 3
   },
   "file_extension": ".py",
   "mimetype": "text/x-python",
   "name": "python",
   "nbconvert_exporter": "python",
   "pygments_lexer": "ipython3",
   "version": "3.12.2"
  },
  "orig_nbformat": 4
 },
 "nbformat": 4,
 "nbformat_minor": 2
}
